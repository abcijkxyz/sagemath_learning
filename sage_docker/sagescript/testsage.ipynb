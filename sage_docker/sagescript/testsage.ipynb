{
 "cells": [
  {
   "cell_type": "code",
   "execution_count": 1,
   "id": "4a9a21f3-91cf-447e-9c5d-cc34a0c4be1a",
   "metadata": {},
   "outputs": [
    {
     "data": {
      "text/plain": [
       "2^12 * 5^2"
      ]
     },
     "execution_count": 1,
     "metadata": {},
     "output_type": "execute_result"
    }
   ],
   "source": [
    "factor(102400)"
   ]
  },
  {
   "cell_type": "code",
   "execution_count": null,
   "id": "2b7bba66-65f0-4f07-949d-7f0ae0adbe5a",
   "metadata": {},
   "outputs": [],
   "source": []
  }
 ],
 "metadata": {
  "kernelspec": {
   "display_name": "SageMath 10.3",
   "language": "sage",
   "name": "sagemath"
  },
  "language_info": {
   "codemirror_mode": {
    "name": "ipython",
    "version": 3
   },
   "file_extension": ".py",
   "mimetype": "text/x-python",
   "name": "python",
   "nbconvert_exporter": "python",
   "pygments_lexer": "ipython3",
   "version": "3.11.1"
  }
 },
 "nbformat": 4,
 "nbformat_minor": 5
}
